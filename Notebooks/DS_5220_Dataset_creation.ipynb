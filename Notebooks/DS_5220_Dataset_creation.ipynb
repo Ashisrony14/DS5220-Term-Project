{
 "cells": [
  {
   "cell_type": "code",
   "execution_count": null,
   "metadata": {
    "id": "PLi66EtNRTmB"
   },
   "outputs": [],
   "source": [
    "import math\n",
    "from math import sqrt\n",
    "from keras.models import Sequential\n",
    "from keras.layers import Dense\n",
    "from keras.layers import LSTM\n",
    "from pandas import DataFrame\n",
    "from pandas import concat\n",
    "from sklearn.preprocessing import LabelEncoder\n",
    "from sklearn.preprocessing import MinMaxScaler\n",
    "from sklearn.metrics import mean_squared_error\n",
    "from numpy import concatenate\n",
    "import xarray as xr\n",
    "import numpy as np\n",
    "import pandas as pd\n",
    "import netCDF4 as nc\n",
    "import matplotlib.pyplot as plt\n",
    "import warnings\n",
    "warnings.filterwarnings('ignore')"
   ]
  },
  {
   "cell_type": "code",
   "execution_count": null,
   "metadata": {
    "colab": {
     "base_uri": "https://localhost:8080/"
    },
    "id": "_3Zz-UPkJbdA",
    "outputId": "280d7b62-4cef-4289-fe41-f581b93205d6"
   },
   "outputs": [],
   "source": [
    "ds1 =xr.open_dataset('/home/das.puj/ML_Project/temp/USA_TEMP_timeseries.nc')\n",
    "ds2 =xr.open_dataset('/home/das.puj/ML_Project/pr/USA_PR_timeseries.nc')\n",
    "ds3 =xr.open_dataset('/home/das.puj/ML_Project/hur/USA_RH_timeseries.nc')\n",
    "air_pressure= pd.read_csv('/home/das.puj/ML_Project/ps/Boston_daily_pressure.csv', encoding= 'latin1')\n",
    "air_pressure= air_pressure.iloc[:36500]\n"
   ]
  },
  {
   "cell_type": "code",
   "execution_count": null,
   "metadata": {},
   "outputs": [],
   "source": [
    "#Removing nan values from Relative humdity file\n",
    "hr=np.array(ds3.hur.values)\n",
    "hr\n",
    "import numpy as np\n",
    "\n",
    "def nan_helper(y):\n",
    "\n",
    "    return np.isnan(y), lambda z: z.nonzero()[0]\n",
    "\n",
    "nans, x= nan_helper(hr)\n",
    "hr[nans]= np.interp(x(nans), x(~nans), hr[~nans])\n",
    "print (hr)"
   ]
  },
  {
   "cell_type": "code",
   "execution_count": null,
   "metadata": {},
   "outputs": [],
   "source": [
    "#Creating Dataframe\n",
    "data = pd.DataFrame()\n",
    "data['Precipitation'] =  np.array(ds2.pr.values)\n",
    "data['Temperature']  = np.array(ds1.tas.values)\n",
    "data['Relative_humidity'] = hr\n",
    "data['Air_Pressure'] =  air_pressure['Pressure']\n",
    "data"
   ]
  },
  {
   "cell_type": "code",
   "execution_count": null,
   "metadata": {},
   "outputs": [],
   "source": [
    "#Saving dataframe in a csv file\n",
    "data.to_csv('/home/das.puj/ML_Project/ML_dataframe.csv')"
   ]
  }
 ],
 "metadata": {
  "colab": {
   "collapsed_sections": [],
   "name": "LSTM hydropower relation with precipitation and temperature_Rocky_mountain.ipynb",
   "provenance": []
  },
  "kernelspec": {
   "display_name": "Python 3",
   "language": "python",
   "name": "python3"
  },
  "language_info": {
   "codemirror_mode": {
    "name": "ipython",
    "version": 3
   },
   "file_extension": ".py",
   "mimetype": "text/x-python",
   "name": "python",
   "nbconvert_exporter": "python",
   "pygments_lexer": "ipython3",
   "version": "3.7.10"
  }
 },
 "nbformat": 4,
 "nbformat_minor": 4
}
