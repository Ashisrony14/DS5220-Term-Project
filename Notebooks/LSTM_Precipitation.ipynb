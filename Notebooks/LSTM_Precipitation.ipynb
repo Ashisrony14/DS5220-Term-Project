{
  "nbformat": 4,
  "nbformat_minor": 0,
  "metadata": {
    "colab": {
      "name": "LSTM_Precipitation.ipynb",
      "provenance": [],
      "collapsed_sections": []
    },
    "kernelspec": {
      "display_name": "Python 3",
      "language": "python",
      "name": "python3"
    },
    "language_info": {
      "codemirror_mode": {
        "name": "ipython",
        "version": 3
      },
      "file_extension": ".py",
      "mimetype": "text/x-python",
      "name": "python",
      "nbconvert_exporter": "python",
      "pygments_lexer": "ipython3",
      "version": "3.7.10"
    }
  },
  "cells": [
    {
      "cell_type": "code",
      "metadata": {
        "id": "PLi66EtNRTmB"
      },
      "source": [
        "import math\n",
        "from math import sqrt\n",
        "from keras.models import Sequential\n",
        "from keras.layers import Dense\n",
        "from keras.layers import LSTM\n",
        "from pandas import DataFrame\n",
        "from pandas import concat\n",
        "from sklearn.preprocessing import LabelEncoder\n",
        "from sklearn.preprocessing import MinMaxScaler\n",
        "from sklearn.metrics import mean_squared_error\n",
        "from numpy import concatenate\n",
        "import xarray as xr\n",
        "import numpy as np\n",
        "import pandas as pd\n",
        "import netCDF4 as nc\n",
        "import matplotlib.pyplot as plt\n",
        "import warnings\n",
        "warnings.filterwarnings('ignore')"
      ],
      "execution_count": 1,
      "outputs": []
    },
    {
      "cell_type": "code",
      "metadata": {
        "colab": {
          "base_uri": "https://localhost:8080/"
        },
        "id": "9VdJZf6UPAdt",
        "outputId": "64ad3bf7-0b80-4787-b4f8-3f420640399b"
      },
      "source": [
        "from google.colab import drive\n",
        "drive.mount(\"/content/drive\")"
      ],
      "execution_count": 2,
      "outputs": [
        {
          "output_type": "stream",
          "name": "stdout",
          "text": [
            "Mounted at /content/drive\n"
          ]
        }
      ]
    },
    {
      "cell_type": "code",
      "source": [
        "data= pd.read_csv('/content/drive/My Drive/DS_Project/ML_dataframe.csv', encoding= 'latin1')\n",
        "data"
      ],
      "metadata": {
        "colab": {
          "base_uri": "https://localhost:8080/",
          "height": 423
        },
        "id": "eyAvxQzsLRDQ",
        "outputId": "540aeefe-0a87-4422-bbe4-adb20ea3d557"
      },
      "execution_count": 3,
      "outputs": [
        {
          "output_type": "execute_result",
          "data": {
            "text/html": [
              "<div>\n",
              "<style scoped>\n",
              "    .dataframe tbody tr th:only-of-type {\n",
              "        vertical-align: middle;\n",
              "    }\n",
              "\n",
              "    .dataframe tbody tr th {\n",
              "        vertical-align: top;\n",
              "    }\n",
              "\n",
              "    .dataframe thead th {\n",
              "        text-align: right;\n",
              "    }\n",
              "</style>\n",
              "<table border=\"1\" class=\"dataframe\">\n",
              "  <thead>\n",
              "    <tr style=\"text-align: right;\">\n",
              "      <th></th>\n",
              "      <th>Date</th>\n",
              "      <th>Precipitation</th>\n",
              "      <th>Temperature</th>\n",
              "      <th>Relative_humidity</th>\n",
              "      <th>Air_Pressure</th>\n",
              "      <th>PRW</th>\n",
              "    </tr>\n",
              "  </thead>\n",
              "  <tbody>\n",
              "    <tr>\n",
              "      <th>0</th>\n",
              "      <td>1/1/1915</td>\n",
              "      <td>3.372648</td>\n",
              "      <td>275.14020</td>\n",
              "      <td>83.499230</td>\n",
              "      <td>83609.850</td>\n",
              "      <td>2.784520</td>\n",
              "    </tr>\n",
              "    <tr>\n",
              "      <th>1</th>\n",
              "      <td>1/2/1915</td>\n",
              "      <td>5.849281</td>\n",
              "      <td>280.52010</td>\n",
              "      <td>88.843410</td>\n",
              "      <td>83221.570</td>\n",
              "      <td>3.970052</td>\n",
              "    </tr>\n",
              "    <tr>\n",
              "      <th>2</th>\n",
              "      <td>1/3/1915</td>\n",
              "      <td>0.150792</td>\n",
              "      <td>276.48587</td>\n",
              "      <td>95.272660</td>\n",
              "      <td>83625.350</td>\n",
              "      <td>3.120856</td>\n",
              "    </tr>\n",
              "    <tr>\n",
              "      <th>3</th>\n",
              "      <td>1/4/1915</td>\n",
              "      <td>2.477911</td>\n",
              "      <td>279.44635</td>\n",
              "      <td>88.040890</td>\n",
              "      <td>83994.516</td>\n",
              "      <td>2.128633</td>\n",
              "    </tr>\n",
              "    <tr>\n",
              "      <th>4</th>\n",
              "      <td>1/5/1915</td>\n",
              "      <td>0.001109</td>\n",
              "      <td>267.71445</td>\n",
              "      <td>80.809130</td>\n",
              "      <td>84009.480</td>\n",
              "      <td>2.024976</td>\n",
              "    </tr>\n",
              "    <tr>\n",
              "      <th>...</th>\n",
              "      <td>...</td>\n",
              "      <td>...</td>\n",
              "      <td>...</td>\n",
              "      <td>...</td>\n",
              "      <td>...</td>\n",
              "      <td>...</td>\n",
              "    </tr>\n",
              "    <tr>\n",
              "      <th>36495</th>\n",
              "      <td>12/27/2014</td>\n",
              "      <td>4.814195</td>\n",
              "      <td>273.45140</td>\n",
              "      <td>64.560680</td>\n",
              "      <td>83678.870</td>\n",
              "      <td>6.425169</td>\n",
              "    </tr>\n",
              "    <tr>\n",
              "      <th>36496</th>\n",
              "      <td>12/28/2014</td>\n",
              "      <td>0.004475</td>\n",
              "      <td>274.76535</td>\n",
              "      <td>63.451500</td>\n",
              "      <td>83346.450</td>\n",
              "      <td>7.488951</td>\n",
              "    </tr>\n",
              "    <tr>\n",
              "      <th>36497</th>\n",
              "      <td>12/29/2014</td>\n",
              "      <td>0.000026</td>\n",
              "      <td>272.95187</td>\n",
              "      <td>62.342327</td>\n",
              "      <td>83224.750</td>\n",
              "      <td>7.951182</td>\n",
              "    </tr>\n",
              "    <tr>\n",
              "      <th>36498</th>\n",
              "      <td>12/30/2014</td>\n",
              "      <td>0.032887</td>\n",
              "      <td>274.79710</td>\n",
              "      <td>85.251480</td>\n",
              "      <td>83244.586</td>\n",
              "      <td>8.224910</td>\n",
              "    </tr>\n",
              "    <tr>\n",
              "      <th>36499</th>\n",
              "      <td>12/31/2014</td>\n",
              "      <td>1.155274</td>\n",
              "      <td>276.21854</td>\n",
              "      <td>85.251480</td>\n",
              "      <td>83198.850</td>\n",
              "      <td>7.750363</td>\n",
              "    </tr>\n",
              "  </tbody>\n",
              "</table>\n",
              "<p>36500 rows × 6 columns</p>\n",
              "</div>"
            ],
            "text/plain": [
              "             Date  Precipitation  ...  Air_Pressure       PRW\n",
              "0        1/1/1915       3.372648  ...     83609.850  2.784520\n",
              "1        1/2/1915       5.849281  ...     83221.570  3.970052\n",
              "2        1/3/1915       0.150792  ...     83625.350  3.120856\n",
              "3        1/4/1915       2.477911  ...     83994.516  2.128633\n",
              "4        1/5/1915       0.001109  ...     84009.480  2.024976\n",
              "...           ...            ...  ...           ...       ...\n",
              "36495  12/27/2014       4.814195  ...     83678.870  6.425169\n",
              "36496  12/28/2014       0.004475  ...     83346.450  7.488951\n",
              "36497  12/29/2014       0.000026  ...     83224.750  7.951182\n",
              "36498  12/30/2014       0.032887  ...     83244.586  8.224910\n",
              "36499  12/31/2014       1.155274  ...     83198.850  7.750363\n",
              "\n",
              "[36500 rows x 6 columns]"
            ]
          },
          "metadata": {},
          "execution_count": 3
        }
      ]
    },
    {
      "cell_type": "code",
      "metadata": {
        "id": "peAGpUR8O6zo"
      },
      "source": [
        "dataset= data[['Precipitation','Temperature', 'Relative_humidity','Air_Pressure','PRW']]"
      ],
      "execution_count": 4,
      "outputs": []
    },
    {
      "cell_type": "markdown",
      "metadata": {
        "id": "5Cu4zzAELyIi"
      },
      "source": [
        "Multivariate Time Series Forecasting with LSTMs in Keras"
      ]
    },
    {
      "cell_type": "code",
      "metadata": {
        "id": "MbcrQxeSPLjY"
      },
      "source": [
        "\n",
        "# transform a time series dataset into a supervised learning dataset\n",
        "def series_to_supervised(data, n_in=1, n_out=1, dropnan=True):\n",
        "\tn_vars = 1 if type(data) is list else data.shape[1]\n",
        "\tdf = DataFrame(data)\n",
        "\tcols = list()\n",
        "\t# input sequence (t-n, ... t-1)\n",
        "\tfor i in range(n_in, 0, -1):\n",
        "\t\tcols.append(df.shift(i))\n",
        "\t# forecast sequence (t, t+1, ... t+n)\n",
        "\tfor i in range(0, n_out):\n",
        "\t\tcols.append(df.shift(-i))\n",
        "\t# put it all together\n",
        "\tagg = concat(cols, axis=1)\n",
        "\t# drop rows with NaN values\n",
        "\tif dropnan:\n",
        "\t\tagg.dropna(inplace=True)\n",
        "\treturn agg.values"
      ],
      "execution_count": 6,
      "outputs": []
    },
    {
      "cell_type": "code",
      "metadata": {
        "colab": {
          "base_uri": "https://localhost:8080/"
        },
        "id": "V7poHKAXPWDq",
        "outputId": "0b36333a-313c-472d-94d2-954722aca1d0"
      },
      "source": [
        "# load dataset\n",
        "values = dataset.values\n",
        "# ensure all data is float\n",
        "values = values.astype('float32')\n",
        "# normalize features\n",
        "scaler = MinMaxScaler(feature_range=(0, 1))\n",
        "scaled = scaler.fit_transform(values)\n",
        "# frame as supervised learning\n",
        "reframed = pd.DataFrame(series_to_supervised(scaled, 1, 1))\n",
        "print(type(reframed))\n",
        "# drop columns we don't want to predict\n",
        "reframed.drop(reframed.columns[[6,7,8,9]], axis=1, inplace=True)\n",
        "print(reframed.head())"
      ],
      "execution_count": 7,
      "outputs": [
        {
          "output_type": "stream",
          "name": "stdout",
          "text": [
            "<class 'pandas.core.frame.DataFrame'>\n",
            "          0         1         2         3         4         5\n",
            "0  0.013658  0.401840  0.735837  0.551811  0.091526  0.023688\n",
            "1  0.023688  0.511950  0.803938  0.450218  0.135534  0.000611\n",
            "2  0.000611  0.429381  0.885866  0.555866  0.104011  0.010035\n",
            "3  0.010035  0.489973  0.793712  0.652458  0.067179  0.000004\n",
            "4  0.000004  0.249858  0.701557  0.656372  0.063331  0.000053\n"
          ]
        }
      ]
    },
    {
      "cell_type": "code",
      "metadata": {
        "colab": {
          "base_uri": "https://localhost:8080/"
        },
        "id": "vEcyQgr9QfoP",
        "outputId": "a2df6bc5-40fd-4de3-f436-992256a5c07f"
      },
      "source": [
        "values = reframed.values\n",
        "n_train_data = 27375\n",
        "train = values[:n_train_data, :]\n",
        "test = values[n_train_data:, :]\n",
        "# split into input and outputs\n",
        "train_X, train_y = train[:, :-1], train[:, -1]\n",
        "test_X, test_y = test[:, :-1], test[:, -1]\n",
        "# reshape input to be 3D [samples, timesteps, features]\n",
        "train_X = train_X.reshape((train_X.shape[0], 1, train_X.shape[1]))\n",
        "test_X = test_X.reshape((test_X.shape[0], 1, test_X.shape[1]))\n",
        "print(train_X.shape, train_y.shape, test_X.shape, test_y.shape)"
      ],
      "execution_count": 8,
      "outputs": [
        {
          "output_type": "stream",
          "name": "stdout",
          "text": [
            "(27375, 1, 5) (27375,) (9124, 1, 5) (9124,)\n"
          ]
        }
      ]
    },
    {
      "cell_type": "code",
      "metadata": {
        "id": "dSE8rYMNO6zx",
        "colab": {
          "base_uri": "https://localhost:8080/"
        },
        "outputId": "9566e64f-25ca-4dee-cadf-21414eebf726"
      },
      "source": [
        "...\n",
        "# design network\n",
        "model = Sequential()\n",
        "model.add(LSTM(50, input_shape=(train_X.shape[1], train_X.shape[2])))\n",
        "model.add(Dense(1))\n",
        "model.compile(loss='mae', optimizer='adam')\n",
        "# fit network\n",
        "history = model.fit(train_X, train_y, epochs=50, batch_size=72, validation_data=(test_X, test_y), verbose=2, shuffle=False)\n"
      ],
      "execution_count": 9,
      "outputs": [
        {
          "output_type": "stream",
          "name": "stdout",
          "text": [
            "Epoch 1/50\n",
            "381/381 - 4s - loss: 0.0151 - val_loss: 0.0150 - 4s/epoch - 10ms/step\n",
            "Epoch 2/50\n",
            "381/381 - 1s - loss: 0.0148 - val_loss: 0.0148 - 1s/epoch - 3ms/step\n",
            "Epoch 3/50\n",
            "381/381 - 1s - loss: 0.0147 - val_loss: 0.0148 - 1s/epoch - 3ms/step\n",
            "Epoch 4/50\n",
            "381/381 - 1s - loss: 0.0146 - val_loss: 0.0147 - 1s/epoch - 3ms/step\n",
            "Epoch 5/50\n",
            "381/381 - 1s - loss: 0.0147 - val_loss: 0.0147 - 1s/epoch - 3ms/step\n",
            "Epoch 6/50\n",
            "381/381 - 1s - loss: 0.0147 - val_loss: 0.0147 - 1s/epoch - 3ms/step\n",
            "Epoch 7/50\n",
            "381/381 - 1s - loss: 0.0147 - val_loss: 0.0149 - 1s/epoch - 3ms/step\n",
            "Epoch 8/50\n",
            "381/381 - 1s - loss: 0.0145 - val_loss: 0.0146 - 1s/epoch - 3ms/step\n",
            "Epoch 9/50\n",
            "381/381 - 1s - loss: 0.0145 - val_loss: 0.0146 - 1s/epoch - 3ms/step\n",
            "Epoch 10/50\n",
            "381/381 - 1s - loss: 0.0145 - val_loss: 0.0146 - 1s/epoch - 3ms/step\n",
            "Epoch 11/50\n",
            "381/381 - 1s - loss: 0.0145 - val_loss: 0.0146 - 1s/epoch - 3ms/step\n",
            "Epoch 12/50\n",
            "381/381 - 1s - loss: 0.0146 - val_loss: 0.0147 - 1s/epoch - 3ms/step\n",
            "Epoch 13/50\n",
            "381/381 - 1s - loss: 0.0145 - val_loss: 0.0146 - 1s/epoch - 3ms/step\n",
            "Epoch 14/50\n",
            "381/381 - 1s - loss: 0.0145 - val_loss: 0.0146 - 1s/epoch - 3ms/step\n",
            "Epoch 15/50\n",
            "381/381 - 1s - loss: 0.0146 - val_loss: 0.0146 - 1s/epoch - 3ms/step\n",
            "Epoch 16/50\n",
            "381/381 - 1s - loss: 0.0145 - val_loss: 0.0146 - 1s/epoch - 3ms/step\n",
            "Epoch 17/50\n",
            "381/381 - 1s - loss: 0.0145 - val_loss: 0.0146 - 1s/epoch - 3ms/step\n",
            "Epoch 18/50\n",
            "381/381 - 1s - loss: 0.0145 - val_loss: 0.0146 - 1s/epoch - 3ms/step\n",
            "Epoch 19/50\n",
            "381/381 - 1s - loss: 0.0145 - val_loss: 0.0146 - 998ms/epoch - 3ms/step\n",
            "Epoch 20/50\n",
            "381/381 - 1s - loss: 0.0145 - val_loss: 0.0146 - 1s/epoch - 3ms/step\n",
            "Epoch 21/50\n",
            "381/381 - 1s - loss: 0.0145 - val_loss: 0.0147 - 1s/epoch - 3ms/step\n",
            "Epoch 22/50\n",
            "381/381 - 1s - loss: 0.0145 - val_loss: 0.0146 - 1s/epoch - 3ms/step\n",
            "Epoch 23/50\n",
            "381/381 - 1s - loss: 0.0145 - val_loss: 0.0146 - 1s/epoch - 3ms/step\n",
            "Epoch 24/50\n",
            "381/381 - 1s - loss: 0.0145 - val_loss: 0.0146 - 1s/epoch - 3ms/step\n",
            "Epoch 25/50\n",
            "381/381 - 1s - loss: 0.0145 - val_loss: 0.0146 - 1s/epoch - 3ms/step\n",
            "Epoch 26/50\n",
            "381/381 - 1s - loss: 0.0145 - val_loss: 0.0146 - 1s/epoch - 3ms/step\n",
            "Epoch 27/50\n",
            "381/381 - 1s - loss: 0.0145 - val_loss: 0.0146 - 1s/epoch - 3ms/step\n",
            "Epoch 28/50\n",
            "381/381 - 1s - loss: 0.0145 - val_loss: 0.0146 - 1s/epoch - 3ms/step\n",
            "Epoch 29/50\n",
            "381/381 - 1s - loss: 0.0145 - val_loss: 0.0146 - 1s/epoch - 3ms/step\n",
            "Epoch 30/50\n",
            "381/381 - 1s - loss: 0.0145 - val_loss: 0.0146 - 1s/epoch - 3ms/step\n",
            "Epoch 31/50\n",
            "381/381 - 1s - loss: 0.0145 - val_loss: 0.0146 - 1s/epoch - 3ms/step\n",
            "Epoch 32/50\n",
            "381/381 - 1s - loss: 0.0145 - val_loss: 0.0146 - 1s/epoch - 3ms/step\n",
            "Epoch 33/50\n",
            "381/381 - 1s - loss: 0.0145 - val_loss: 0.0146 - 1s/epoch - 3ms/step\n",
            "Epoch 34/50\n",
            "381/381 - 1s - loss: 0.0145 - val_loss: 0.0149 - 1s/epoch - 3ms/step\n",
            "Epoch 35/50\n",
            "381/381 - 1s - loss: 0.0144 - val_loss: 0.0146 - 1s/epoch - 3ms/step\n",
            "Epoch 36/50\n",
            "381/381 - 1s - loss: 0.0145 - val_loss: 0.0147 - 1s/epoch - 3ms/step\n",
            "Epoch 37/50\n",
            "381/381 - 1s - loss: 0.0144 - val_loss: 0.0147 - 1s/epoch - 3ms/step\n",
            "Epoch 38/50\n",
            "381/381 - 1s - loss: 0.0144 - val_loss: 0.0147 - 1s/epoch - 3ms/step\n",
            "Epoch 39/50\n",
            "381/381 - 1s - loss: 0.0144 - val_loss: 0.0147 - 1s/epoch - 3ms/step\n",
            "Epoch 40/50\n",
            "381/381 - 1s - loss: 0.0144 - val_loss: 0.0146 - 1s/epoch - 3ms/step\n",
            "Epoch 41/50\n",
            "381/381 - 1s - loss: 0.0144 - val_loss: 0.0147 - 1s/epoch - 3ms/step\n",
            "Epoch 42/50\n",
            "381/381 - 1s - loss: 0.0144 - val_loss: 0.0147 - 1s/epoch - 3ms/step\n",
            "Epoch 43/50\n",
            "381/381 - 1s - loss: 0.0144 - val_loss: 0.0148 - 1s/epoch - 3ms/step\n",
            "Epoch 44/50\n",
            "381/381 - 1s - loss: 0.0144 - val_loss: 0.0147 - 1s/epoch - 3ms/step\n",
            "Epoch 45/50\n",
            "381/381 - 1s - loss: 0.0144 - val_loss: 0.0147 - 1s/epoch - 3ms/step\n",
            "Epoch 46/50\n",
            "381/381 - 1s - loss: 0.0144 - val_loss: 0.0148 - 1s/epoch - 3ms/step\n",
            "Epoch 47/50\n",
            "381/381 - 1s - loss: 0.0144 - val_loss: 0.0147 - 1s/epoch - 3ms/step\n",
            "Epoch 48/50\n",
            "381/381 - 1s - loss: 0.0144 - val_loss: 0.0148 - 1s/epoch - 3ms/step\n",
            "Epoch 49/50\n",
            "381/381 - 1s - loss: 0.0144 - val_loss: 0.0147 - 1s/epoch - 3ms/step\n",
            "Epoch 50/50\n",
            "381/381 - 1s - loss: 0.0144 - val_loss: 0.0147 - 1s/epoch - 3ms/step\n"
          ]
        }
      ]
    },
    {
      "cell_type": "code",
      "source": [
        "# plot history\n",
        "plt.plot(history.history['loss'], label='train')\n",
        "plt.plot(history.history['val_loss'], label='Validation')\n",
        "plt.legend()\n",
        "plt.show()"
      ],
      "metadata": {
        "id": "DLs438DIrI5_",
        "outputId": "1b2cdaac-4f49-4efd-9d09-c2394af60e01",
        "colab": {
          "base_uri": "https://localhost:8080/",
          "height": 265
        }
      },
      "execution_count": 10,
      "outputs": [
        {
          "output_type": "display_data",
          "data": {
            "image/png": "[encoded data removed]",
            "text/plain": [
              "<Figure size 432x288 with 1 Axes>"
            ]
          },
          "metadata": {
            "needs_background": "light"
          }
        }
      ]
    },
    {
      "cell_type": "code",
      "metadata": {
        "id": "vGJV9silHfl6",
        "colab": {
          "base_uri": "https://localhost:8080/"
        },
        "outputId": "80a2f69a-7725-4d49-ed1b-54aa62a1b339"
      },
      "source": [
        "...\n",
        "#NEW    make a prediction\n",
        "yhat = model.predict(test_X)\n",
        "test_X = test_X.reshape((test_X.shape[0], test_X.shape[2]))\n",
        "# invert scaling for forecast\n",
        "inv_yhat = concatenate((yhat, test_X[:, 1:]), axis=1)\n",
        "inv_yhat = scaler.inverse_transform(inv_yhat)\n",
        "inv_yhat = inv_yhat[:,0]\n",
        "# invert scaling for actual\n",
        "test_y = test_y.reshape((len(test_y), 1))\n",
        "inv_y = concatenate((test_y, test_X[:, 1:]), axis=1)\n",
        "inv_y = scaler.inverse_transform(inv_y)\n",
        "inv_y = inv_y[:,0]\n",
        "# calculate RMSE\n",
        "rmse = sqrt(mean_squared_error(inv_y, inv_yhat))\n",
        "print('Test RMSE: %.7f' % rmse)"
      ],
      "execution_count": 11,
      "outputs": [
        {
          "output_type": "stream",
          "name": "stdout",
          "text": [
            "Test RMSE: 9.3136027\n"
          ]
        }
      ]
    },
    {
      "cell_type": "code",
      "source": [
        "from sklearn import metrics\n",
        "from scipy import stats\n",
        "print('MSE: ', metrics.mean_squared_error(inv_y, inv_yhat))\n",
        "print('MAE: ', metrics.mean_absolute_error(inv_y, inv_yhat))\n",
        "print('R2: ', metrics.r2_score(inv_y, inv_yhat))\n",
        "print('Correlation: ', stats.pearsonr(inv_y, inv_yhat)[0])\n",
        "print('RMSLE: ',metrics.mean_squared_log_error(np.absolute(inv_y), np.absolute( inv_yhat)))\n",
        "print('MAPE: ',metrics.mean_absolute_percentage_error(inv_y, inv_yhat))"
      ],
      "metadata": {
        "colab": {
          "base_uri": "https://localhost:8080/"
        },
        "id": "AStCk_NAKY1_",
        "outputId": "ad6b1b60-0a46-4613-9899-353a6a99f8ad"
      },
      "execution_count": 12,
      "outputs": [
        {
          "output_type": "stream",
          "name": "stdout",
          "text": [
            "MSE:  86.743195\n",
            "MAE:  3.6410468\n",
            "R2:  -0.09862650665611161\n",
            "Correlation:  0.14113413605995428\n",
            "RMSLE:  1.1092361\n",
            "MAPE:  1653189800000.0\n"
          ]
        }
      ]
    },
    {
      "cell_type": "code",
      "metadata": {
        "colab": {
          "base_uri": "https://localhost:8080/",
          "height": 349
        },
        "id": "FhEdvLr0H3b0",
        "outputId": "4a202c0c-6e0e-4e34-ac35-c63a6f096025"
      },
      "source": [
        "plt.figure(figsize=(12,5))\n",
        "plt.xlabel('time')\n",
        "plt.ylabel('Temperature in Kelvin')\n",
        "plt.title('Multivariate LSTM ')\n",
        "plt.style.use('seaborn-darkgrid')\n",
        "\n",
        "\n",
        "plt.plot(inv_y,color='g', linewidth=1, alpha=0.9, label='Truth')\n",
        "plt.plot(inv_yhat,color='r', linewidth=1, alpha=0.9,label='Prediction')\n",
        "#plt. text(2,60000, 'RMSE =9916.220', style='italic',bbox={'facecolor': 'red', 'alpha': 0.5, 'pad': 10})\n",
        "plt.legend(fontsize=12)\n",
        "plt.show()"
      ],
      "execution_count": 13,
      "outputs": [
        {
          "output_type": "display_data",
          "data": {
            "image/png": "[encoded data removed]",
            "text/plain": [
              "<Figure size 864x360 with 1 Axes>"
            ]
          },
          "metadata": {
            "needs_background": "light"
          }
        }
      ]
    },
    {
      "cell_type": "code",
      "metadata": {
        "colab": {
          "base_uri": "https://localhost:8080/",
          "height": 345
        },
        "id": "G_EWL_paIF9b",
        "outputId": "bc3ce38b-7e6d-4a48-8518-ae989f9b7576"
      },
      "source": [
        "plt.figure(figsize=(12,5))\n",
        "plt.xlabel('time')\n",
        "plt.ylabel('Temperature in Kelvin')\n",
        "plt.title('Multivariate LSTM ')\n",
        "plt.style.use('seaborn-darkgrid')\n",
        "\n",
        "\n",
        "plt.plot(inv_y[9000:9120],color='b', linewidth=1, alpha=0.9, label='Truth')\n",
        "plt.plot(inv_yhat[9001:9121],color='r', linewidth=1, alpha=0.9,label='Prediction')\n",
        "#plt. text(2,60000, 'RMSE =9916.220', style='italic',bbox={'facecolor': 'red', 'alpha': 0.5, 'pad': 10})\n",
        "plt.legend(fontsize=12)\n",
        "plt.show()"
      ],
      "execution_count": 14,
      "outputs": [
        {
          "output_type": "display_data",
          "data": {
            "image/png": "[encoded data removed]",
            "text/plain": [
              "<Figure size 864x360 with 1 Axes>"
            ]
          },
          "metadata": {}
        }
      ]
    }
  ]
}