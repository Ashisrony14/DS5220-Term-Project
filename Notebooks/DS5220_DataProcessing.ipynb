{
 "cells": [
  {
   "cell_type": "code",
   "execution_count": null,
   "id": "2a00f02d-f355-42b6-8a56-2f5642a03524",
   "metadata": {},
   "outputs": [],
   "source": [
    "from netCDF4 import Dataset as NetCDFFile \n",
    "import matplotlib.pyplot as plt\n",
    "import numpy as np\n",
    "import glob\n",
    "import xarray as xr\n",
    "import netCDF4 as nc\n",
    "import cftime\n",
    "from matplotlib import pyplot\n",
    "import os, sys"
   ]
  },
  {
   "cell_type": "code",
   "execution_count": null,
   "id": "741265dc-e3e2-420d-b5e6-98917b7c2dc7",
   "metadata": {},
   "outputs": [],
   "source": [
    "#Indicate the folder where all netcdf files are kept to get data from a specific location\n",
    "dir_name = '/home/das.puj/ML_Project/hur'\n",
    "extension = \".nc\"\n",
    "os.chdir(dir_name) # change directory from working dir to dir with files\n",
    "tile_save_dir = '/home/das.puj/ML_Project'\n",
    "for item in os.listdir(dir_name): # loop through items in dir\n",
    "    if item.endswith(extension): \n",
    "        m = os.path.abspath(item)\n",
    "        model= xr.open_dataset(m)\n",
    "        model= model.sel(time= slice('1915-01-01', '2014-12-31'))#select time range\n",
    "        #select lat, lon of study location\n",
    "        latitude= 42.3601 \n",
    "        longitude= -71.0589\n",
    "        lat= model.lat.values\n",
    "        lon= model.lon.values\n",
    "        longitude= 360+ longitude\n",
    "        sq_diff_lat = (lat - latitude)**2 \n",
    "        sq_diff_lon = (lon - longitude)**2\n",
    "        \n",
    "\n",
    "        min_index_lat = sq_diff_lat.argmin()\n",
    "        min_index_lon = sq_diff_lon.argmin()\n",
    "        latitude_grid= lat.__getitem__(min_index_lat)\n",
    "        longitude_grid=lon.__getitem__(min_index_lon)\n",
    "\n",
    "        dsloc= model.sel(lat=latitude_grid,lon= longitude_grid,plev=100000, method='nearest')\n",
    "        fname= m.split(\"_\")[-1].split(\"nc\")[0] + \"_\" + \".nc\"\n",
    "        dsloc.to_netcdf(tile_save_dir + fname)\n",
    "\n",
    "        "
   ]
  },
  {
   "cell_type": "code",
   "execution_count": null,
   "id": "97e198ad-f6f5-41bf-8b74-b9cb9365b179",
   "metadata": {},
   "outputs": [],
   "source": [
    "#Merging all the netcdf file into one\n",
    "ds = xr.open_mfdataset(r'/home/das.puj/ML_Project/usa/*.nc',combine = 'by_coords', concat_dim=\"time\")\n",
    "ds.to_netcdf('USA_RH_timeseries.nc')"
   ]
  },
  {
   "cell_type": "code",
   "execution_count": null,
   "id": "acfe846f-729f-47c1-8f1a-19c713816d57",
   "metadata": {},
   "outputs": [],
   "source": [
    "dataset= xr.open_dataset('/home/das.puj/ML_Project/hur/USA_RH_timeseries.nc')"
   ]
  },
  {
   "cell_type": "code",
   "execution_count": null,
   "id": "c0170ca3-1987-4b87-b024-d8e490356aef",
   "metadata": {},
   "outputs": [],
   "source": [
    "# Repeat the steps for all variables."
   ]
  }
 ],
 "metadata": {
  "kernelspec": {
   "display_name": "Python 3",
   "language": "python",
   "name": "python3"
  },
  "language_info": {
   "codemirror_mode": {
    "name": "ipython",
    "version": 3
   },
   "file_extension": ".py",
   "mimetype": "text/x-python",
   "name": "python",
   "nbconvert_exporter": "python",
   "pygments_lexer": "ipython3",
   "version": "3.7.10"
  }
 },
 "nbformat": 4,
 "nbformat_minor": 5
}
